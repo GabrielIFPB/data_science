{
  "nbformat": 4,
  "nbformat_minor": 0,
  "metadata": {
    "colab": {
      "name": "carregando_arquivo.ipynb",
      "provenance": [],
      "toc_visible": true,
      "authorship_tag": "ABX9TyOQeLhP5J3kj2kHG9lSwmTw",
      "include_colab_link": true
    },
    "kernelspec": {
      "name": "python3",
      "display_name": "Python 3"
    }
  },
  "cells": [
    {
      "cell_type": "markdown",
      "metadata": {
        "id": "view-in-github",
        "colab_type": "text"
      },
      "source": [
        "<a href=\"https://colab.research.google.com/github/GabrielIFPB/data_science/blob/gabriel/carregando_arquivo.ipynb\" target=\"_parent\"><img src=\"https://colab.research.google.com/assets/colab-badge.svg\" alt=\"Open In Colab\"/></a>"
      ]
    },
    {
      "cell_type": "code",
      "metadata": {
        "id": "SP7k8TfdZeMy",
        "colab_type": "code",
        "colab": {}
      },
      "source": [
        "import numpy as np"
      ],
      "execution_count": 1,
      "outputs": []
    },
    {
      "cell_type": "markdown",
      "metadata": {
        "id": "kJB_NhKhVenS",
        "colab_type": "text"
      },
      "source": [
        "```\n",
        "   x        y        z\n",
        "0.1212\t\t0.842\t\t0.3672\n",
        "0.104\t\t0.5422\t\t0.34551\n",
        "0.5661\t\t0.932\t\t0.2344\n",
        "0.762\t\t0.847361\t0.1538\n",
        "```\n"
      ]
    },
    {
      "cell_type": "code",
      "metadata": {
        "id": "D0InH1LmZgou",
        "colab_type": "code",
        "colab": {
          "base_uri": "https://localhost:8080/",
          "height": 69
        },
        "outputId": "4c167c70-5440-446c-d3aa-975658aa4dce"
      },
      "source": [
        "x, y, z = np.loadtxt('/content/sample_data/dados.txt', skiprows=1, unpack=True)\n",
        "\n",
        "print(x)\n",
        "print(y)\n",
        "print(z)\n"
      ],
      "execution_count": 13,
      "outputs": [
        {
          "output_type": "stream",
          "text": [
            "[0.1212 0.104  0.5661 0.762 ]\n",
            "[0.842    0.5422   0.932    0.847361]\n",
            "[0.3672  0.34551 0.2344  0.1538 ]\n"
          ],
          "name": "stdout"
        }
      ]
    },
    {
      "cell_type": "code",
      "metadata": {
        "id": "oW4yv55NS2So",
        "colab_type": "code",
        "colab": {
          "base_uri": "https://localhost:8080/",
          "height": 104
        },
        "outputId": "5750c9af-158e-430d-fdbc-c18616370c1b"
      },
      "source": [
        "my_array = np.genfromtxt('/content/sample_data/dados2.txt', skip_header=1, filling_values=0)\n",
        "\n",
        "print(my_array)\n",
        "print(my_array[2][1])"
      ],
      "execution_count": 17,
      "outputs": [
        {
          "output_type": "stream",
          "text": [
            "[[0.1212   0.842    0.3672  ]\n",
            " [0.       0.5422   0.34551 ]\n",
            " [0.5661   0.932    0.      ]\n",
            " [0.762    0.847361 0.1538  ]]\n",
            "0.932\n"
          ],
          "name": "stdout"
        }
      ]
    },
    {
      "cell_type": "code",
      "metadata": {
        "id": "NgX3Ja8oXlt9",
        "colab_type": "code",
        "colab": {}
      },
      "source": [
        ""
      ],
      "execution_count": null,
      "outputs": []
    }
  ]
}