{
  "nbformat": 4,
  "nbformat_minor": 0,
  "metadata": {
    "colab": {
      "name": "trabalhando_com_numpy.ipynb",
      "provenance": [],
      "authorship_tag": "ABX9TyMwP0A4JGSUn6RnNiMddUf1",
      "include_colab_link": true
    },
    "kernelspec": {
      "name": "python3",
      "display_name": "Python 3"
    }
  },
  "cells": [
    {
      "cell_type": "markdown",
      "metadata": {
        "id": "view-in-github",
        "colab_type": "text"
      },
      "source": [
        "<a href=\"https://colab.research.google.com/github/GabrielIFPB/data_science/blob/gabriel/numpy/trabalhando_com_numpy.ipynb\" target=\"_parent\"><img src=\"https://colab.research.google.com/assets/colab-badge.svg\" alt=\"Open In Colab\"/></a>"
      ]
    },
    {
      "cell_type": "markdown",
      "metadata": {
        "id": "n1C3pvxWw4GP"
      },
      "source": [
        ""
      ]
    },
    {
      "cell_type": "code",
      "metadata": {
        "id": "xn00wGnwow8I",
        "outputId": "e908a3d5-59f4-47a7-d99c-c4149897c758",
        "colab": {
          "base_uri": "https://localhost:8080/"
        }
      },
      "source": [
        "import numpy as np\n",
        "a = np.arange(10)\n",
        "a"
      ],
      "execution_count": 3,
      "outputs": [
        {
          "output_type": "execute_result",
          "data": {
            "text/plain": [
              "array([0, 1, 2, 3, 4, 5, 6, 7, 8, 9])"
            ]
          },
          "metadata": {
            "tags": []
          },
          "execution_count": 3
        }
      ]
    },
    {
      "cell_type": "code",
      "metadata": {
        "id": "7AV4mrP9pLTJ",
        "outputId": "bccfd0d0-f94f-4054-d5db-6450ba4ad71f",
        "colab": {
          "base_uri": "https://localhost:8080/"
        }
      },
      "source": [
        "np.random.shuffle(a)\n",
        "a"
      ],
      "execution_count": 7,
      "outputs": [
        {
          "output_type": "execute_result",
          "data": {
            "text/plain": [
              "array([7, 6, 0, 5, 1, 8, 4, 9, 3, 2])"
            ]
          },
          "metadata": {
            "tags": []
          },
          "execution_count": 7
        }
      ]
    },
    {
      "cell_type": "markdown",
      "metadata": {
        "id": "dQXN3KKzpqfd"
      },
      "source": [
        "# Números complexos"
      ]
    },
    {
      "cell_type": "code",
      "metadata": {
        "id": "q-nRKagTpp0N",
        "outputId": "806d6fd4-079c-4b0b-f6c7-a10a3373c5b9",
        "colab": {
          "base_uri": "https://localhost:8080/"
        }
      },
      "source": [
        "a = np.array([1, 10 + 2j, 20 + 5j], dtype='complex')\n",
        "a"
      ],
      "execution_count": 10,
      "outputs": [
        {
          "output_type": "execute_result",
          "data": {
            "text/plain": [
              "array([ 1.+0.j, 10.+2.j, 20.+5.j])"
            ]
          },
          "metadata": {
            "tags": []
          },
          "execution_count": 10
        }
      ]
    },
    {
      "cell_type": "code",
      "metadata": {
        "id": "aU-pGuZLpbaf",
        "outputId": "95b6552b-1e33-4b17-e25e-3ac23863d6b6",
        "colab": {
          "base_uri": "https://localhost:8080/"
        }
      },
      "source": [
        "for i in a:\n",
        "  print(i)"
      ],
      "execution_count": 12,
      "outputs": [
        {
          "output_type": "stream",
          "text": [
            "(1+0j)\n",
            "(10+2j)\n",
            "(20+5j)\n"
          ],
          "name": "stdout"
        }
      ]
    },
    {
      "cell_type": "code",
      "metadata": {
        "id": "7YewsJ46q5dj",
        "outputId": "9aa7a34b-09bb-4dda-f8de-ff7752675635",
        "colab": {
          "base_uri": "https://localhost:8080/"
        }
      },
      "source": [
        "a[1] + a[2]"
      ],
      "execution_count": 13,
      "outputs": [
        {
          "output_type": "execute_result",
          "data": {
            "text/plain": [
              "(30+7j)"
            ]
          },
          "metadata": {
            "tags": []
          },
          "execution_count": 13
        }
      ]
    },
    {
      "cell_type": "code",
      "metadata": {
        "id": "xfQkNH1-rM-2",
        "outputId": "71ab40f9-65db-424f-ff4b-a09025361639",
        "colab": {
          "base_uri": "https://localhost:8080/"
        }
      },
      "source": [
        "a[1] - a[2]"
      ],
      "execution_count": 14,
      "outputs": [
        {
          "output_type": "execute_result",
          "data": {
            "text/plain": [
              "(-10-3j)"
            ]
          },
          "metadata": {
            "tags": []
          },
          "execution_count": 14
        }
      ]
    },
    {
      "cell_type": "code",
      "metadata": {
        "id": "yjz2d1NPrXia",
        "outputId": "2cd7313d-100c-44a7-ac50-a0688b7b1c0f",
        "colab": {
          "base_uri": "https://localhost:8080/"
        }
      },
      "source": [
        "a[1] * a[2]"
      ],
      "execution_count": 15,
      "outputs": [
        {
          "output_type": "execute_result",
          "data": {
            "text/plain": [
              "(190+90j)"
            ]
          },
          "metadata": {
            "tags": []
          },
          "execution_count": 15
        }
      ]
    },
    {
      "cell_type": "code",
      "metadata": {
        "id": "i4ir7I-GraLx",
        "outputId": "d8ee4b23-731d-4aa3-f7cd-ca13ab56d85b",
        "colab": {
          "base_uri": "https://localhost:8080/"
        }
      },
      "source": [
        "a[1] / a[2]"
      ],
      "execution_count": 16,
      "outputs": [
        {
          "output_type": "execute_result",
          "data": {
            "text/plain": [
              "(0.49411764705882355-0.023529411764705882j)"
            ]
          },
          "metadata": {
            "tags": []
          },
          "execution_count": 16
        }
      ]
    },
    {
      "cell_type": "code",
      "metadata": {
        "id": "28dN5-oUrb-3",
        "outputId": "c18006b5-c77a-4bc1-9708-f9e57fad47f4",
        "colab": {
          "base_uri": "https://localhost:8080/"
        }
      },
      "source": [
        "a[1] // a[2]"
      ],
      "execution_count": 17,
      "outputs": [
        {
          "output_type": "execute_result",
          "data": {
            "text/plain": [
              "0j"
            ]
          },
          "metadata": {
            "tags": []
          },
          "execution_count": 17
        }
      ]
    },
    {
      "cell_type": "code",
      "metadata": {
        "id": "zP2aTltlrewn",
        "outputId": "f7ebf28e-d656-4d20-db39-a9e3649f9559",
        "colab": {
          "base_uri": "https://localhost:8080/"
        }
      },
      "source": [
        "a[2] // a[1]"
      ],
      "execution_count": 18,
      "outputs": [
        {
          "output_type": "execute_result",
          "data": {
            "text/plain": [
              "(2+0j)"
            ]
          },
          "metadata": {
            "tags": []
          },
          "execution_count": 18
        }
      ]
    },
    {
      "cell_type": "code",
      "metadata": {
        "id": "88AvjJTmrh8H",
        "outputId": "1409d441-c0e6-46c4-b4a0-64e578067d6f",
        "colab": {
          "base_uri": "https://localhost:8080/"
        }
      },
      "source": [
        "a[2] / a[1]"
      ],
      "execution_count": 19,
      "outputs": [
        {
          "output_type": "execute_result",
          "data": {
            "text/plain": [
              "(2.019230769230769+0.09615384615384615j)"
            ]
          },
          "metadata": {
            "tags": []
          },
          "execution_count": 19
        }
      ]
    },
    {
      "cell_type": "markdown",
      "metadata": {
        "id": "cTPI98Xprm60"
      },
      "source": [
        "# Gerando arrays com linspace"
      ]
    },
    {
      "cell_type": "code",
      "metadata": {
        "id": "RWBwKCUXrktP",
        "outputId": "eab7733a-1fa8-4150-fa3d-181e41f32a6a",
        "colab": {
          "base_uri": "https://localhost:8080/"
        }
      },
      "source": [
        "np.arange(5)"
      ],
      "execution_count": 20,
      "outputs": [
        {
          "output_type": "execute_result",
          "data": {
            "text/plain": [
              "array([0, 1, 2, 3, 4])"
            ]
          },
          "metadata": {
            "tags": []
          },
          "execution_count": 20
        }
      ]
    },
    {
      "cell_type": "code",
      "metadata": {
        "id": "pqNy-Bawr4Jy",
        "outputId": "7f6bcb9b-3e69-479f-9731-ba9f1fe187de",
        "colab": {
          "base_uri": "https://localhost:8080/"
        }
      },
      "source": [
        "np.arange(1, 100, 2)"
      ],
      "execution_count": 21,
      "outputs": [
        {
          "output_type": "execute_result",
          "data": {
            "text/plain": [
              "array([ 1,  3,  5,  7,  9, 11, 13, 15, 17, 19, 21, 23, 25, 27, 29, 31, 33,\n",
              "       35, 37, 39, 41, 43, 45, 47, 49, 51, 53, 55, 57, 59, 61, 63, 65, 67,\n",
              "       69, 71, 73, 75, 77, 79, 81, 83, 85, 87, 89, 91, 93, 95, 97, 99])"
            ]
          },
          "metadata": {
            "tags": []
          },
          "execution_count": 21
        }
      ]
    },
    {
      "cell_type": "code",
      "metadata": {
        "id": "tzga8CMOr9se",
        "outputId": "a5921e05-8872-42ce-fd89-5d89646be426",
        "colab": {
          "base_uri": "https://localhost:8080/"
        }
      },
      "source": [
        "np.linspace(2.0, 3.0, 5)"
      ],
      "execution_count": 22,
      "outputs": [
        {
          "output_type": "execute_result",
          "data": {
            "text/plain": [
              "array([2.  , 2.25, 2.5 , 2.75, 3.  ])"
            ]
          },
          "metadata": {
            "tags": []
          },
          "execution_count": 22
        }
      ]
    },
    {
      "cell_type": "code",
      "metadata": {
        "id": "A1DPUfvxsMEc",
        "outputId": "a9f62628-3e4e-4e39-a0bb-b18e62f82e31",
        "colab": {
          "base_uri": "https://localhost:8080/"
        }
      },
      "source": [
        "np.linspace(2.0, 2.5, 5)"
      ],
      "execution_count": 23,
      "outputs": [
        {
          "output_type": "execute_result",
          "data": {
            "text/plain": [
              "array([2.   , 2.125, 2.25 , 2.375, 2.5  ])"
            ]
          },
          "metadata": {
            "tags": []
          },
          "execution_count": 23
        }
      ]
    },
    {
      "cell_type": "markdown",
      "metadata": {
        "id": "I7LyEvulsh-N"
      },
      "source": [
        "# Encontrando elementos únicos de um array"
      ]
    },
    {
      "cell_type": "code",
      "metadata": {
        "id": "jDa9XT7psbcm",
        "outputId": "adafa9e3-e3c7-41a8-cb4c-e478a1a88db7",
        "colab": {
          "base_uri": "https://localhost:8080/"
        }
      },
      "source": [
        "a = np.array([[1, 2], [2, 3 ], [3, 3], [4, 4]])\n",
        "a"
      ],
      "execution_count": 24,
      "outputs": [
        {
          "output_type": "execute_result",
          "data": {
            "text/plain": [
              "array([[1, 2],\n",
              "       [2, 3],\n",
              "       [3, 3],\n",
              "       [4, 4]])"
            ]
          },
          "metadata": {
            "tags": []
          },
          "execution_count": 24
        }
      ]
    },
    {
      "cell_type": "code",
      "metadata": {
        "id": "NFsAa6Bbs4Pe",
        "outputId": "4160dfe0-82e3-4c34-825c-80f0c8216bc9",
        "colab": {
          "base_uri": "https://localhost:8080/"
        }
      },
      "source": [
        "np.unique(a)"
      ],
      "execution_count": 25,
      "outputs": [
        {
          "output_type": "execute_result",
          "data": {
            "text/plain": [
              "array([1, 2, 3, 4])"
            ]
          },
          "metadata": {
            "tags": []
          },
          "execution_count": 25
        }
      ]
    },
    {
      "cell_type": "markdown",
      "metadata": {
        "id": "I4PhZg0fukTJ"
      },
      "source": [
        "# Lendo arquivos CSV com NumPy"
      ]
    },
    {
      "cell_type": "code",
      "metadata": {
        "id": "4X2orvv6tB26",
        "outputId": "c0ec9dc1-8921-4279-dde8-362e4875f8c3",
        "colab": {
          "base_uri": "https://localhost:8080/",
          "height": 1000
        }
      },
      "source": [
        "valores = np.genfromtxt('arquivo.csv', delimiter=',', skip_header=1)\n",
        "valores"
      ],
      "execution_count": 28,
      "outputs": [
        {
          "output_type": "error",
          "ename": "ValueError",
          "evalue": "ignored",
          "traceback": [
            "\u001b[0;31m---------------------------------------------------------------------------\u001b[0m",
            "\u001b[0;31mValueError\u001b[0m                                Traceback (most recent call last)",
            "\u001b[0;32m<ipython-input-28-501a550dcee1>\u001b[0m in \u001b[0;36m<module>\u001b[0;34m()\u001b[0m\n\u001b[0;32m----> 1\u001b[0;31m \u001b[0mvalores\u001b[0m \u001b[0;34m=\u001b[0m \u001b[0mnp\u001b[0m\u001b[0;34m.\u001b[0m\u001b[0mgenfromtxt\u001b[0m\u001b[0;34m(\u001b[0m\u001b[0;34m'https://github.com/GabrielIFPB/data_science/blob/master/numpy/arquivo.csv'\u001b[0m\u001b[0;34m,\u001b[0m \u001b[0mdelimiter\u001b[0m\u001b[0;34m=\u001b[0m\u001b[0;34m','\u001b[0m\u001b[0;34m,\u001b[0m \u001b[0mskip_header\u001b[0m\u001b[0;34m=\u001b[0m\u001b[0;36m1\u001b[0m\u001b[0;34m)\u001b[0m\u001b[0;34m\u001b[0m\u001b[0;34m\u001b[0m\u001b[0m\n\u001b[0m\u001b[1;32m      2\u001b[0m \u001b[0mvalores\u001b[0m\u001b[0;34m\u001b[0m\u001b[0;34m\u001b[0m\u001b[0m\n",
            "\u001b[0;32m/usr/local/lib/python3.6/dist-packages/numpy/lib/npyio.py\u001b[0m in \u001b[0;36mgenfromtxt\u001b[0;34m(fname, dtype, comments, delimiter, skip_header, skip_footer, converters, missing_values, filling_values, usecols, names, excludelist, deletechars, replace_space, autostrip, case_sensitive, defaultfmt, unpack, usemask, loose, invalid_raise, max_rows, encoding)\u001b[0m\n\u001b[1;32m   2101\u001b[0m             \u001b[0;31m# Raise an exception ?\u001b[0m\u001b[0;34m\u001b[0m\u001b[0;34m\u001b[0m\u001b[0;34m\u001b[0m\u001b[0m\n\u001b[1;32m   2102\u001b[0m             \u001b[0;32mif\u001b[0m \u001b[0minvalid_raise\u001b[0m\u001b[0;34m:\u001b[0m\u001b[0;34m\u001b[0m\u001b[0;34m\u001b[0m\u001b[0m\n\u001b[0;32m-> 2103\u001b[0;31m                 \u001b[0;32mraise\u001b[0m \u001b[0mValueError\u001b[0m\u001b[0;34m(\u001b[0m\u001b[0merrmsg\u001b[0m\u001b[0;34m)\u001b[0m\u001b[0;34m\u001b[0m\u001b[0;34m\u001b[0m\u001b[0m\n\u001b[0m\u001b[1;32m   2104\u001b[0m             \u001b[0;31m# Issue a warning ?\u001b[0m\u001b[0;34m\u001b[0m\u001b[0;34m\u001b[0m\u001b[0;34m\u001b[0m\u001b[0m\n\u001b[1;32m   2105\u001b[0m             \u001b[0;32melse\u001b[0m\u001b[0;34m:\u001b[0m\u001b[0;34m\u001b[0m\u001b[0;34m\u001b[0m\u001b[0m\n",
            "\u001b[0;31mValueError\u001b[0m: Some errors were detected !\n    Line #66 (got 2 columns instead of 1)\n    Line #150 (got 3 columns instead of 1)\n    Line #162 (got 6 columns instead of 1)\n    Line #163 (got 3 columns instead of 1)\n    Line #187 (got 4 columns instead of 1)\n    Line #191 (got 2 columns instead of 1)\n    Line #193 (got 2 columns instead of 1)\n    Line #194 (got 2 columns instead of 1)\n    Line #195 (got 2 columns instead of 1)\n    Line #196 (got 2 columns instead of 1)\n    Line #197 (got 2 columns instead of 1)\n    Line #198 (got 2 columns instead of 1)\n    Line #201 (got 2 columns instead of 1)\n    Line #205 (got 2 columns instead of 1)\n    Line #206 (got 2 columns instead of 1)\n    Line #212 (got 2 columns instead of 1)\n    Line #215 (got 2 columns instead of 1)\n    Line #223 (got 4 columns instead of 1)\n    Line #229 (got 2 columns instead of 1)\n    Line #234 (got 2 columns instead of 1)\n    Line #235 (got 2 columns instead of 1)\n    Line #236 (got 2 columns instead of 1)\n    Line #237 (got 2 columns instead of 1)\n    Line #238 (got 2 columns instead of 1)\n    Line #243 (got 2 columns instead of 1)\n    Line #244 (got 2 columns instead of 1)\n    Line #245 (got 2 columns instead of 1)\n    Line #246 (got 2 columns instead of 1)\n    Line #253 (got 2 columns instead of 1)\n    Line #261 (got 4 columns instead of 1)\n    Line #266 (got 2 columns instead of 1)\n    Line #270 (got 2 columns instead of 1)\n    Line #274 (got 2 columns instead of 1)\n    Line #275 (got 2 columns instead of 1)\n    Line #297 (got 2 columns instead of 1)\n    Line #435 (got 6 columns instead of 1)\n    Line #436 (got 3 columns instead of 1)\n    Line #441 (got 6 columns instead of 1)\n    Line #442 (got 3 columns instead of 1)\n    Line #526 (got 6 columns instead of 1)\n    Line #537 (got 6 columns instead of 1)\n    Line #549 (got 6 columns instead of 1)\n    Line #565 (got 3 columns instead of 1)\n    Line #571 (got 3 columns instead of 1)\n    Line #577 (got 3 columns instead of 1)\n    Line #583 (got 3 columns instead of 1)\n    Line #589 (got 3 columns instead of 1)\n    Line #595 (got 3 columns instead of 1)\n    Line #601 (got 3 columns instead of 1)\n    Line #673 (got 3 columns instead of 1)\n    Line #678 (got 3 columns instead of 1)\n    Line #679 (got 8 columns instead of 1)\n    Line #724 (got 7 columns instead of 1)\n    Line #785 (got 2 columns instead of 1)\n    Line #788 (got 2 columns instead of 1)\n    Line #886 (got 2 columns instead of 1)\n    Line #887 (got 3 columns instead of 1)\n    Line #888 (got 3 columns instead of 1)\n    Line #890 (got 3 columns instead of 1)\n    Line #892 (got 3 columns instead of 1)\n    Line #893 (got 3 columns instead of 1)\n    Line #894 (got 3 columns instead of 1)\n    Line #895 (got 3 columns instead of 1)\n    Line #896 (got 3 columns instead of 1)\n    Line #897 (got 3 columns instead of 1)\n    Line #898 (got 3 columns instead of 1)\n    Line #899 (got 3 columns instead of 1)\n    Line #900 (got 3 columns instead of 1)\n    Line #969 (got 2 columns instead of 1)\n    Line #976 (got 2 columns instead of 1)\n    Line #988 (got 2 columns instead of 1)"
          ]
        }
      ]
    },
    {
      "cell_type": "code",
      "metadata": {
        "id": "pGlvSUyLu5Fm"
      },
      "source": [
        ""
      ],
      "execution_count": null,
      "outputs": []
    }
  ]
}